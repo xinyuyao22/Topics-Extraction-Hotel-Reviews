{
 "cells": [
  {
   "cell_type": "markdown",
   "metadata": {
    "toc": true
   },
   "source": [
    "<h1>Table of Contents<span class=\"tocSkip\"></span></h1>\n",
    "<div class=\"toc\"><ul class=\"toc-item\"><li><span><a href=\"#Sentence-Classification-Model-Building\" data-toc-modified-id=\"Sentence-Classification-Model-Building-1\"><span class=\"toc-item-num\">1&nbsp;&nbsp;</span>Sentence Classification Model Building</a></span><ul class=\"toc-item\"><li><span><a href=\"#Training-the-model-with-Naive-Bayes-and-SVM\" data-toc-modified-id=\"Training-the-model-with-Naive-Bayes-and-SVM-1.1\"><span class=\"toc-item-num\">1.1&nbsp;&nbsp;</span>Training the model with Naive Bayes and SVM</a></span></li></ul></li></ul></div>"
   ]
  },
  {
   "cell_type": "markdown",
   "metadata": {},
   "source": [
    "# Sentence Classification Model Building\n",
    "## Training the model with Naive Bayes and SVM"
   ]
  },
  {
   "cell_type": "code",
   "execution_count": 1,
   "metadata": {},
   "outputs": [],
   "source": [
    "import spacy\n",
    "#import en_core_web_lg\n",
    "#nlp = en_core_web_lg.load()\n",
    "nlp = spacy.load('en_core_web_lg')\n",
    "\n",
    "#import neuralcoref\n",
    "#neuralcoref.add_to_pipe(nlp)\n",
    "\n",
    "# Define function for replacing pronouns using neuralcoref\n",
    "#def replace_pronouns(text):\n",
    " #   doc = nlp(text)\n",
    "  #  return doc._.coref_resolved"
   ]
  },
  {
   "cell_type": "code",
   "execution_count": 3,
   "metadata": {},
   "outputs": [
    {
     "data": {
      "text/html": [
       "<div>\n",
       "<style scoped>\n",
       "    .dataframe tbody tr th:only-of-type {\n",
       "        vertical-align: middle;\n",
       "    }\n",
       "\n",
       "    .dataframe tbody tr th {\n",
       "        vertical-align: top;\n",
       "    }\n",
       "\n",
       "    .dataframe thead th {\n",
       "        text-align: right;\n",
       "    }\n",
       "</style>\n",
       "<table border=\"1\" class=\"dataframe\">\n",
       "  <thead>\n",
       "    <tr style=\"text-align: right;\">\n",
       "      <th></th>\n",
       "      <th>Sentence</th>\n",
       "      <th>Aspect</th>\n",
       "    </tr>\n",
       "  </thead>\n",
       "  <tbody>\n",
       "    <tr>\n",
       "      <td>0</td>\n",
       "      <td>LOVED THE HAMPTON INN SEAPORT!!!!!!!!!!!!!!!!!!</td>\n",
       "      <td>['OTHER']</td>\n",
       "    </tr>\n",
       "    <tr>\n",
       "      <td>1</td>\n",
       "      <td>Just returned from a 3 night stay.</td>\n",
       "      <td>['NOTRELATED']</td>\n",
       "    </tr>\n",
       "    <tr>\n",
       "      <td>2</td>\n",
       "      <td>This is a FABULOUS hotel.</td>\n",
       "      <td>['OTHER']</td>\n",
       "    </tr>\n",
       "    <tr>\n",
       "      <td>3</td>\n",
       "      <td>The front desk staff, the doormen, the breakfast staff, EVERYONE is incredibly friendly and helpful and warm and welcoming.</td>\n",
       "      <td>['SERVICE']</td>\n",
       "    </tr>\n",
       "    <tr>\n",
       "      <td>4</td>\n",
       "      <td>The room was fabulous too.</td>\n",
       "      <td>['ROOMS']</td>\n",
       "    </tr>\n",
       "    <tr>\n",
       "      <td>5</td>\n",
       "      <td>Really comfy beds, great decorating, and super super clean.</td>\n",
       "      <td>['CLEANLINESS', 'ROOMS']</td>\n",
       "    </tr>\n",
       "    <tr>\n",
       "      <td>6</td>\n",
       "      <td>The breakfasts are great - fresh fruit, bagels, muffins, hot eggs and sausage, etc.</td>\n",
       "      <td>['FOOD']</td>\n",
       "    </tr>\n",
       "    <tr>\n",
       "      <td>7</td>\n",
       "      <td>Good coffee.</td>\n",
       "      <td>['FOOD']</td>\n",
       "    </tr>\n",
       "    <tr>\n",
       "      <td>8</td>\n",
       "      <td>Just around the corner from the hotel is a FABULOUS little Italian restaurant - Bon Amici.</td>\n",
       "      <td>['LOCATION']</td>\n",
       "    </tr>\n",
       "    <tr>\n",
       "      <td>9</td>\n",
       "      <td>Highly recommend it.</td>\n",
       "      <td>['OTHER']</td>\n",
       "    </tr>\n",
       "  </tbody>\n",
       "</table>\n",
       "</div>"
      ],
      "text/plain": [
       "                                                                                                                      Sentence  \\\n",
       "0  LOVED THE HAMPTON INN SEAPORT!!!!!!!!!!!!!!!!!!                                                                               \n",
       "1  Just returned from a 3 night stay.                                                                                            \n",
       "2  This is a FABULOUS hotel.                                                                                                     \n",
       "3  The front desk staff, the doormen, the breakfast staff, EVERYONE is incredibly friendly and helpful and warm and welcoming.   \n",
       "4  The room was fabulous too.                                                                                                    \n",
       "5  Really comfy beds, great decorating, and super super clean.                                                                   \n",
       "6  The breakfasts are great - fresh fruit, bagels, muffins, hot eggs and sausage, etc.                                           \n",
       "7  Good coffee.                                                                                                                  \n",
       "8  Just around the corner from the hotel is a FABULOUS little Italian restaurant - Bon Amici.                                    \n",
       "9  Highly recommend it.                                                                                                          \n",
       "\n",
       "                     Aspect  \n",
       "0  ['OTHER']                 \n",
       "1  ['NOTRELATED']            \n",
       "2  ['OTHER']                 \n",
       "3  ['SERVICE']               \n",
       "4  ['ROOMS']                 \n",
       "5  ['CLEANLINESS', 'ROOMS']  \n",
       "6  ['FOOD']                  \n",
       "7  ['FOOD']                  \n",
       "8  ['LOCATION']              \n",
       "9  ['OTHER']                 "
      ]
     },
     "execution_count": 3,
     "metadata": {},
     "output_type": "execute_result"
    }
   ],
   "source": [
    "import pandas as pd\n",
    "# Read annotated reviews df, which is the labeled dataset for training\n",
    "# This is located in the pickled files folder\n",
    "aspect_train_df = pd.read_csv('aspect_train.csv')\n",
    "aspect_test_df = pd.read_csv('aspect_test.csv')\n",
    "pd.set_option('display.max_colwidth', -1)\n",
    "aspect_train_df.head(10)"
   ]
  },
  {
   "cell_type": "code",
   "execution_count": 3,
   "metadata": {},
   "outputs": [],
   "source": [
    "# Create a new column for text whose pronouns have been replaced\n",
    "#aspect_train_df[\"text_pro\"] = aspect_train_df.Sentence.map(lambda x: replace_pronouns(x))\n",
    "#aspect_test_df[\"text_pro\"] = aspect_test_df.Sentence.map(lambda x: replace_pronouns(x))\n",
    "#aspect_train_df.head(3)"
   ]
  },
  {
   "cell_type": "code",
   "execution_count": 4,
   "metadata": {},
   "outputs": [],
   "source": [
    "def clean_y(y):\n",
    "    for i in range(len(y)):\n",
    "        temp = []\n",
    "        for j in y[i][1:-1].split(','):\n",
    "            temp.append(j.strip(\"' \"))\n",
    "        y[i] = temp\n",
    "    return y"
   ]
  },
  {
   "cell_type": "code",
   "execution_count": 5,
   "metadata": {},
   "outputs": [],
   "source": [
    "from sklearn.preprocessing import MultiLabelBinarizer\n",
    "import pickle\n",
    "y_train = clean_y(aspect_train_df[\"Aspect\"].values)\n",
    "y_test = clean_y(aspect_test_df[\"Aspect\"].values)\n",
    "# Convert the multi-labels into arrays\n",
    "mlb = MultiLabelBinarizer()\n",
    "mlb.fit([[\"ROOMS\", \"CLEANLINESS\", \"VALUE\", \"SERVICE\", \"LOCATION\", \"CHECKIN\", \"BUSINESS\", \"FOOD\", \"BUILDING\", \"OTHER\", \"NOTRELATED\"]])\n",
    "\n",
    "y_train = mlb.transform(y_train)\n",
    "y_test = mlb.transform(y_test)\n",
    "X_train = aspect_train_df.Sentence\n",
    "X_test = aspect_test_df.Sentence\n",
    "\n",
    "# save the the fitted binarizer labels\n",
    "# This is important: it contains the how the multi-label was binarized, so you need to\n",
    "# load this in the next folder in order to undo the transformation for the correct labels.\n",
    "filename = 'mlb.pkl'\n",
    "pickle.dump(mlb, open(filename, 'wb'))"
   ]
  },
  {
   "cell_type": "code",
   "execution_count": 22,
   "metadata": {},
   "outputs": [],
   "source": [
    "def bce(y_pred, y_true):\n",
    "    err = len(np.argwhere(y_pred != y_true))\n",
    "    bce = err/(y_pred.shape[0])\n",
    "    return bce"
   ]
  },
  {
   "cell_type": "code",
   "execution_count": 28,
   "metadata": {},
   "outputs": [
    {
     "name": "stdout",
     "output_type": "stream",
     "text": [
      "Accuracy is 91.30\n",
      "BCE is 0.96\n",
      "F1 score is 0.56\n"
     ]
    }
   ],
   "source": [
    "from sklearn.feature_extraction.text import CountVectorizer\n",
    "from sklearn.feature_extraction.text import TfidfTransformer\n",
    "from sklearn.pipeline import Pipeline\n",
    "from sklearn.naive_bayes import MultinomialNB\n",
    "from skmultilearn.problem_transform import LabelPowerset\n",
    "from sklearn.metrics import f1_score\n",
    "import numpy as np\n",
    "\n",
    "# LabelPowerset allows for multi-label classification\n",
    "# Build a pipeline for multinomial naive bayes classification\n",
    "text_clf = Pipeline([('vect', CountVectorizer(ngram_range=(1, 2))),\n",
    "                     ('tfidf', TfidfTransformer()),\n",
    "                     ('clf', LabelPowerset(MultinomialNB(alpha=1e-1))),])\n",
    "text_clf = text_clf.fit(X_train, y_train)\n",
    "predicted = text_clf.predict(X_test)\n",
    "\n",
    "# Calculate accuracy and binary cross entrophy\n",
    "print('BCE is %.2f' % (bce(predicted, y_test)))\n",
    "print('F1 score is %.2f' % (f1_score(y_test, predicted, average=\"micro\")))"
   ]
  },
  {
   "cell_type": "code",
   "execution_count": 29,
   "metadata": {},
   "outputs": [
    {
     "name": "stderr",
     "output_type": "stream",
     "text": [
      "C:\\Users\\xyyao\\Anaconda3\\lib\\site-packages\\sklearn\\linear_model\\stochastic_gradient.py:561: ConvergenceWarning: Maximum number of iteration reached before convergence. Consider increasing max_iter to improve the fit.\n",
      "  ConvergenceWarning)\n"
     ]
    },
    {
     "name": "stdout",
     "output_type": "stream",
     "text": [
      "BCE is 0.87\n",
      "F1 score is 0.61\n"
     ]
    }
   ],
   "source": [
    "from sklearn.linear_model import SGDClassifier\n",
    "# loss: The loss function to be used. Defaults to ‘hinge’, which gives a linear SVM.\n",
    "text_clf_svm = Pipeline([('vect', CountVectorizer()),\n",
    "                         ('tfidf', TfidfTransformer()),\n",
    "                         ('clf-svm', LabelPowerset(\n",
    "                             SGDClassifier(loss='hinge', penalty='l2',\n",
    "                                           alpha=1e-3, max_iter=10, random_state=42)))])\n",
    "_ = text_clf_svm.fit(X_train, y_train)\n",
    "predicted_svm = text_clf_svm.predict(X_test)\n",
    "\n",
    "# Calculate accuracy and binary cross entrophy\n",
    "print('BCE is %.2f' % (bce(predicted_svm, y_test)))\n",
    "print('F1 score is %.2f' % (f1_score(y_test, predicted_svm, average=\"micro\")))"
   ]
  },
  {
   "cell_type": "code",
   "execution_count": 9,
   "metadata": {},
   "outputs": [
    {
     "name": "stdout",
     "output_type": "stream",
     "text": [
      "[[[1199    9]\n",
      "  [  51   13]]\n",
      "\n",
      " [[1263    2]\n",
      "  [   5    2]]\n",
      "\n",
      " [[1223    3]\n",
      "  [  36   10]]\n",
      "\n",
      " [[1199    2]\n",
      "  [  47   24]]\n",
      "\n",
      " [[1116   39]\n",
      "  [  41   76]]\n",
      "\n",
      " [[1102   21]\n",
      "  [  53   96]]\n",
      "\n",
      " [[1110   14]\n",
      "  [ 133   15]]\n",
      "\n",
      " [[ 678  208]\n",
      "  [  94  292]]\n",
      "\n",
      " [[ 963   89]\n",
      "  [  51  169]]\n",
      "\n",
      " [[1009   53]\n",
      "  [  82  128]]\n",
      "\n",
      " [[1184   13]\n",
      "  [  56   19]]]\n"
     ]
    }
   ],
   "source": [
    "from sklearn.metrics import multilabel_confusion_matrix\n",
    "print(multilabel_confusion_matrix(y_test, predicted_svm))"
   ]
  },
  {
   "cell_type": "markdown",
   "metadata": {},
   "source": [
    "Here we find the annotated train dataset is highly unbalanced: there are only 7 sentences labeled as related to 'CLEANLINESS' while 386 labels related to 'FOOD'. Therefore, the svm model perform better in aspects with more labels such as \"LOCATION\", \"CHECKIN\", \"FOOD\", \"BUILDING\", \"OTHER\"."
   ]
  },
  {
   "cell_type": "code",
   "execution_count": 10,
   "metadata": {},
   "outputs": [],
   "source": [
    "pred_df = pd.DataFrame(\n",
    "    {'text': X_test,\n",
    "     'pred_category': mlb.inverse_transform(predicted_svm),\n",
    "     'true_label': mlb.inverse_transform(y_test)\n",
    "    })"
   ]
  },
  {
   "cell_type": "code",
   "execution_count": 11,
   "metadata": {},
   "outputs": [
    {
     "data": {
      "text/html": [
       "<div>\n",
       "<style scoped>\n",
       "    .dataframe tbody tr th:only-of-type {\n",
       "        vertical-align: middle;\n",
       "    }\n",
       "\n",
       "    .dataframe tbody tr th {\n",
       "        vertical-align: top;\n",
       "    }\n",
       "\n",
       "    .dataframe thead th {\n",
       "        text-align: right;\n",
       "    }\n",
       "</style>\n",
       "<table border=\"1\" class=\"dataframe\">\n",
       "  <thead>\n",
       "    <tr style=\"text-align: right;\">\n",
       "      <th></th>\n",
       "      <th>text</th>\n",
       "      <th>pred_category</th>\n",
       "      <th>true_label</th>\n",
       "    </tr>\n",
       "  </thead>\n",
       "  <tbody>\n",
       "    <tr>\n",
       "      <td>0</td>\n",
       "      <td>pleasant enough Stayed at the</td>\n",
       "      <td>(OTHER,)</td>\n",
       "      <td>(OTHER,)</td>\n",
       "    </tr>\n",
       "    <tr>\n",
       "      <td>1</td>\n",
       "      <td>Singel for 2 nights for a football trip, the place is easy to find, in a good location, near the station,on the Singel canal, next to a church.</td>\n",
       "      <td>(LOCATION,)</td>\n",
       "      <td>(LOCATION,)</td>\n",
       "    </tr>\n",
       "    <tr>\n",
       "      <td>2</td>\n",
       "      <td>Room was comfy and very well heated if a little basic, breakfast was good a variety of cereals, breads, cheese, meats, etc, boiled eggs, juice, teacoffeeAll in all a pleasant enough place for a couple of days, mind you we didnt get to bed until 3:30 the first night and well after 4 on the second.</td>\n",
       "      <td>(FOOD,)</td>\n",
       "      <td>(ROOMS,)</td>\n",
       "    </tr>\n",
       "    <tr>\n",
       "      <td>3</td>\n",
       "      <td>The guy I roomed with works in pest control and was a stickler about vermin bed bugs etc before we went and he had no complaints unlike some of our other guys who stayed elsewhere in the city so read into that what you will</td>\n",
       "      <td>(ROOMS,)</td>\n",
       "      <td>(CLEANLINESS,)</td>\n",
       "    </tr>\n",
       "    <tr>\n",
       "      <td>4</td>\n",
       "      <td>Exceeded our expectations!</td>\n",
       "      <td>(OTHER,)</td>\n",
       "      <td>(OTHER,)</td>\n",
       "    </tr>\n",
       "    <tr>\n",
       "      <td>5</td>\n",
       "      <td>What a place.</td>\n",
       "      <td>(OTHER,)</td>\n",
       "      <td>(OTHER,)</td>\n",
       "    </tr>\n",
       "    <tr>\n",
       "      <td>6</td>\n",
       "      <td>We stayed in the Kalia Tower which is not one better towers but we were thrilled with everything it had to offer!</td>\n",
       "      <td>(OTHER,)</td>\n",
       "      <td>(OTHER,)</td>\n",
       "    </tr>\n",
       "    <tr>\n",
       "      <td>7</td>\n",
       "      <td>First thing we noticed were the meticulously landscaped lawns and gardens.</td>\n",
       "      <td>(OTHER,)</td>\n",
       "      <td>(BUILDING,)</td>\n",
       "    </tr>\n",
       "    <tr>\n",
       "      <td>8</td>\n",
       "      <td>Check-in was quick and very easy.</td>\n",
       "      <td>(CHECKIN,)</td>\n",
       "      <td>(CHECKIN,)</td>\n",
       "    </tr>\n",
       "    <tr>\n",
       "      <td>9</td>\n",
       "      <td>The rooms were gorgeous.</td>\n",
       "      <td>(ROOMS,)</td>\n",
       "      <td>(ROOMS,)</td>\n",
       "    </tr>\n",
       "    <tr>\n",
       "      <td>10</td>\n",
       "      <td>Everything you would expect from a Hilton and MORE!</td>\n",
       "      <td>(OTHER,)</td>\n",
       "      <td>(OTHER,)</td>\n",
       "    </tr>\n",
       "    <tr>\n",
       "      <td>11</td>\n",
       "      <td>We had done significant research on hotels in Oahu and I can say after seeing all the other locations we considered such as Sheraton Moana Surfrider, Marriot Waikiki and many others we were thrilled with our decision to stay at HHV.</td>\n",
       "      <td>(OTHER,)</td>\n",
       "      <td>(OTHER,)</td>\n",
       "    </tr>\n",
       "    <tr>\n",
       "      <td>12</td>\n",
       "      <td>Plenty of pool area (each tower has one and a Super pool in teh middle), teh property sits ON the beach!</td>\n",
       "      <td>(OTHER,)</td>\n",
       "      <td>(BUILDING,)</td>\n",
       "    </tr>\n",
       "    <tr>\n",
       "      <td>13</td>\n",
       "      <td>A beautiful lagoon to take walks along.</td>\n",
       "      <td>(OTHER,)</td>\n",
       "      <td>(BUILDING,)</td>\n",
       "    </tr>\n",
       "    <tr>\n",
       "      <td>14</td>\n",
       "      <td>There were 21 restaurant and 22 stores right on site.</td>\n",
       "      <td>(FOOD,)</td>\n",
       "      <td>(OTHER,)</td>\n",
       "    </tr>\n",
       "  </tbody>\n",
       "</table>\n",
       "</div>"
      ],
      "text/plain": [
       "                                                                                                                                                                                                                                                                                                         text  \\\n",
       "0   pleasant enough Stayed at the                                                                                                                                                                                                                                                                               \n",
       "1   Singel for 2 nights for a football trip, the place is easy to find, in a good location, near the station,on the Singel canal, next to a church.                                                                                                                                                             \n",
       "2   Room was comfy and very well heated if a little basic, breakfast was good a variety of cereals, breads, cheese, meats, etc, boiled eggs, juice, teacoffeeAll in all a pleasant enough place for a couple of days, mind you we didnt get to bed until 3:30 the first night and well after 4 on the second.   \n",
       "3   The guy I roomed with works in pest control and was a stickler about vermin bed bugs etc before we went and he had no complaints unlike some of our other guys who stayed elsewhere in the city so read into that what you will                                                                             \n",
       "4   Exceeded our expectations!                                                                                                                                                                                                                                                                                  \n",
       "5   What a place.                                                                                                                                                                                                                                                                                               \n",
       "6   We stayed in the Kalia Tower which is not one better towers but we were thrilled with everything it had to offer!                                                                                                                                                                                           \n",
       "7   First thing we noticed were the meticulously landscaped lawns and gardens.                                                                                                                                                                                                                                  \n",
       "8   Check-in was quick and very easy.                                                                                                                                                                                                                                                                           \n",
       "9   The rooms were gorgeous.                                                                                                                                                                                                                                                                                    \n",
       "10  Everything you would expect from a Hilton and MORE!                                                                                                                                                                                                                                                         \n",
       "11  We had done significant research on hotels in Oahu and I can say after seeing all the other locations we considered such as Sheraton Moana Surfrider, Marriot Waikiki and many others we were thrilled with our decision to stay at HHV.                                                                    \n",
       "12  Plenty of pool area (each tower has one and a Super pool in teh middle), teh property sits ON the beach!                                                                                                                                                                                                    \n",
       "13  A beautiful lagoon to take walks along.                                                                                                                                                                                                                                                                     \n",
       "14  There were 21 restaurant and 22 stores right on site.                                                                                                                                                                                                                                                       \n",
       "\n",
       "   pred_category      true_label  \n",
       "0   (OTHER,)      (OTHER,)        \n",
       "1   (LOCATION,)   (LOCATION,)     \n",
       "2   (FOOD,)       (ROOMS,)        \n",
       "3   (ROOMS,)      (CLEANLINESS,)  \n",
       "4   (OTHER,)      (OTHER,)        \n",
       "5   (OTHER,)      (OTHER,)        \n",
       "6   (OTHER,)      (OTHER,)        \n",
       "7   (OTHER,)      (BUILDING,)     \n",
       "8   (CHECKIN,)    (CHECKIN,)      \n",
       "9   (ROOMS,)      (ROOMS,)        \n",
       "10  (OTHER,)      (OTHER,)        \n",
       "11  (OTHER,)      (OTHER,)        \n",
       "12  (OTHER,)      (BUILDING,)     \n",
       "13  (OTHER,)      (BUILDING,)     \n",
       "14  (FOOD,)       (OTHER,)        "
      ]
     },
     "execution_count": 11,
     "metadata": {},
     "output_type": "execute_result"
    }
   ],
   "source": [
    "pd.set_option('display.max_colwidth', -1)\n",
    "pred_df.to_csv('svm_pred.csv', index=False)\n",
    "pred_df.head(15)"
   ]
  },
  {
   "cell_type": "code",
   "execution_count": 12,
   "metadata": {},
   "outputs": [],
   "source": [
    "pd.set_option('display.max_colwidth', -1)\n",
    "sub = pred_df[pred_df['pred_category'] != pred_df['true_label']]\n",
    "sub.to_csv('error_analysis.csv', index=False)"
   ]
  },
  {
   "cell_type": "code",
   "execution_count": 13,
   "metadata": {},
   "outputs": [
    {
     "name": "stderr",
     "output_type": "stream",
     "text": [
      "C:\\Users\\xyyao\\Anaconda3\\lib\\site-packages\\sklearn\\linear_model\\stochastic_gradient.py:561: ConvergenceWarning: Maximum number of iteration reached before convergence. Consider increasing max_iter to improve the fit.\n",
      "  ConvergenceWarning)\n"
     ]
    }
   ],
   "source": [
    "# Train svm on full dataset and save model\n",
    "X = np.concatenate((X_train, X_test), axis=0)\n",
    "y = np.concatenate((y_train, y_test), axis=0)\n",
    "text_clf_svm = Pipeline([('vect', CountVectorizer()),\n",
    "                         ('tfidf', TfidfTransformer()),\n",
    "                         ('clf-svm', LabelPowerset(\n",
    "                             SGDClassifier(loss='hinge', penalty='l2',\n",
    "                                           alpha=1e-3, max_iter=10, random_state=42)))])\n",
    "text_clf = text_clf_svm.fit(X, y)\n",
    "\n",
    "# save the model to disk\n",
    "filename = 'svm_model.pkl'\n",
    "pickle.dump(text_clf, open(filename, 'wb'))"
   ]
  },
  {
   "cell_type": "code",
   "execution_count": 14,
   "metadata": {},
   "outputs": [],
   "source": [
    "# Here is how to load model and mlb to do predict\n",
    "# svm_model = pickle.load(open('svm_model.pkl', 'rb'))\n",
    "# mlb = pickle.load(open('mlb.pkl', 'rb'))\n",
    "# pred = mlb.inverse_transform(svm_model.predict(X_test))"
   ]
  }
 ],
 "metadata": {
  "kernelspec": {
   "display_name": "Python 3",
   "language": "python",
   "name": "python3"
  },
  "language_info": {
   "codemirror_mode": {
    "name": "ipython",
    "version": 3
   },
   "file_extension": ".py",
   "mimetype": "text/x-python",
   "name": "python",
   "nbconvert_exporter": "python",
   "pygments_lexer": "ipython3",
   "version": "3.7.4"
  },
  "toc": {
   "base_numbering": 1,
   "nav_menu": {},
   "number_sections": true,
   "sideBar": true,
   "skip_h1_title": false,
   "title_cell": "Table of Contents",
   "title_sidebar": "Contents",
   "toc_cell": true,
   "toc_position": {},
   "toc_section_display": true,
   "toc_window_display": false
  }
 },
 "nbformat": 4,
 "nbformat_minor": 2
}
