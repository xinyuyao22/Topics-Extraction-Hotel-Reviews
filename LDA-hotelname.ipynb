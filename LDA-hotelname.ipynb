{
 "cells": [
  {
   "cell_type": "markdown",
   "metadata": {},
   "source": [
    "## Key Topics Extraction and Contextual Sentiment of Hotel Reviews"
   ]
  },
  {
   "cell_type": "markdown",
   "metadata": {},
   "source": [
    "### 1. Preprocess"
   ]
  },
  {
   "cell_type": "code",
   "execution_count": 31,
   "metadata": {},
   "outputs": [],
   "source": [
    "import os\n",
    "from os import listdir\n",
    "import pandas as pd\n",
    "import plotly.graph_objs as go\n",
    "df = pd.read_csv('/Users/lancy/Desktop/Topics-Extraction-Hotel-Reviews/Nlp project/hotel-reviews/Datafiniti_Hotel_Reviews_Jun19.csv', header=0)\n",
    "\n",
    "df.drop(columns=['dateAdded', 'dateUpdated', 'address', 'categories',\n",
    "       'primaryCategories', 'keys', 'reviews.date', 'reviews.dateAdded',\n",
    "       'reviews.dateSeen', 'reviews.userCity',\n",
    "       'reviews.userProvince', 'reviews.username', 'sourceURLs', 'websites'], inplace = True)\n",
    "df = df.rename(index=str, columns={'reviews.rating':'rating', 'reviews.sourceURLs': 'reviews_sourceURLs', 'reviews.text':'reviews_text', 'reviews.title': 'reviews_title'})\n",
    "\n",
    "grouped = df.groupby('name')\n",
    "df1 = grouped.get_group(\"Best Western Carmel's Town House Lodge\")\n",
    "\n",
    "df1 = df1[['reviews_text','name','city']]\n"
   ]
  },
  {
   "cell_type": "code",
   "execution_count": 32,
   "metadata": {},
   "outputs": [
    {
     "data": {
      "text/html": [
       "<div>\n",
       "<style scoped>\n",
       "    .dataframe tbody tr th:only-of-type {\n",
       "        vertical-align: middle;\n",
       "    }\n",
       "\n",
       "    .dataframe tbody tr th {\n",
       "        vertical-align: top;\n",
       "    }\n",
       "\n",
       "    .dataframe thead th {\n",
       "        text-align: right;\n",
       "    }\n",
       "</style>\n",
       "<table border=\"1\" class=\"dataframe\">\n",
       "  <thead>\n",
       "    <tr style=\"text-align: right;\">\n",
       "      <th></th>\n",
       "      <th>reviews_text</th>\n",
       "      <th>name</th>\n",
       "      <th>city</th>\n",
       "    </tr>\n",
       "  </thead>\n",
       "  <tbody>\n",
       "    <tr>\n",
       "      <th>1</th>\n",
       "      <td>We stayed in the king suite with the separatio...</td>\n",
       "      <td>Best Western Carmel's Town House Lodge</td>\n",
       "      <td>Carmel by the Sea</td>\n",
       "    </tr>\n",
       "    <tr>\n",
       "      <th>2</th>\n",
       "      <td>Parking was horrible, somebody ran into my ren...</td>\n",
       "      <td>Best Western Carmel's Town House Lodge</td>\n",
       "      <td>Carmel by the Sea</td>\n",
       "    </tr>\n",
       "    <tr>\n",
       "      <th>3</th>\n",
       "      <td>Not cheap but excellent location. Price is som...</td>\n",
       "      <td>Best Western Carmel's Town House Lodge</td>\n",
       "      <td>Carmel by the Sea</td>\n",
       "    </tr>\n",
       "    <tr>\n",
       "      <th>4</th>\n",
       "      <td>If you get the room that they advertised on th...</td>\n",
       "      <td>Best Western Carmel's Town House Lodge</td>\n",
       "      <td>Carmel by the Sea</td>\n",
       "    </tr>\n",
       "  </tbody>\n",
       "</table>\n",
       "</div>"
      ],
      "text/plain": [
       "                                        reviews_text  \\\n",
       "1  We stayed in the king suite with the separatio...   \n",
       "2  Parking was horrible, somebody ran into my ren...   \n",
       "3  Not cheap but excellent location. Price is som...   \n",
       "4  If you get the room that they advertised on th...   \n",
       "\n",
       "                                     name               city  \n",
       "1  Best Western Carmel's Town House Lodge  Carmel by the Sea  \n",
       "2  Best Western Carmel's Town House Lodge  Carmel by the Sea  \n",
       "3  Best Western Carmel's Town House Lodge  Carmel by the Sea  \n",
       "4  Best Western Carmel's Town House Lodge  Carmel by the Sea  "
      ]
     },
     "execution_count": 32,
     "metadata": {},
     "output_type": "execute_result"
    }
   ],
   "source": [
    "df1"
   ]
  },
  {
   "cell_type": "code",
   "execution_count": 33,
   "metadata": {},
   "outputs": [],
   "source": [
    "\n",
    "f= open(\"hotel_review.txt\",\"w+\")\n",
    "for i in range(df.shape[0]):\n",
    "    f.write(df.reviews_text[i])\n",
    "    f.write(\"\\n\")\n",
    "f.close()\n",
    "\n",
    "with open(\"hotel_review.txt\") as fp: \n",
    "    reviews = []\n",
    "    Lines = fp.readlines() \n",
    "    for line in Lines[:5]: \n",
    "        reviews.append(line)"
   ]
  },
  {
   "cell_type": "code",
   "execution_count": 34,
   "metadata": {},
   "outputs": [
    {
     "data": {
      "text/plain": [
       "['This hotel was nice and quiet. Did not know, there was train track near by. But it was only few train passed during our stay. Best Western changed hotel classification. The Plus category are not the same as before.\\n',\n",
       " \"We stayed in the king suite with the separation between the bedroom and the living space. The sofa bed wasn't very good I had back discomfort by the day we left on our three night stay. The room is clean, and the king bed very comfortable. This hotel is located within walking distance to most places you will want to... More\\n\",\n",
       " \"Parking was horrible, somebody ran into my rental car while staying there. I didn't get to try the breakfast, I was there for business so the restaurant opened to late for the business world to enjoy, I had to asked for coffee for my room, And the items in the vending machine were stale.\\n\",\n",
       " 'Not cheap but excellent location. Price is somewhat standard for not hacing reservations. But room was nice and clean. They offer good continental breakfast which is a plus and compensates. Front desk service and personnel where excellent. It is Carmel, no A/C in rooms but they have a fan for air circulation.\\n',\n",
       " 'If you get the room that they advertised on the website and for what you paid, you may be lucky.If you stay many days , they will give you the not so good rooms.Nobody wants to stay in these rooms: low light/dark rooms, near pool, noisy, smelly bathrooms, or difficult access. If you stay one-two days you will get probably... More\\n']"
      ]
     },
     "execution_count": 34,
     "metadata": {},
     "output_type": "execute_result"
    }
   ],
   "source": [
    "reviews"
   ]
  },
  {
   "cell_type": "code",
   "execution_count": 35,
   "metadata": {},
   "outputs": [],
   "source": [
    "from gensim import corpora\n",
    "from nltk.corpus import stopwords \n",
    "from nltk.stem.wordnet import WordNetLemmatizer\n",
    "import string\n",
    "stop = set(stopwords.words('english'))\n",
    "exclude = set(string.punctuation) \n",
    "lemma = WordNetLemmatizer()\n",
    "def clean(reviews):\n",
    "    stop_free = \" \".join([i for i in reviews.lower().split() if i not in stop])\n",
    "    punc_free = ''.join(ch for ch in stop_free if ch not in exclude)\n",
    "    normalized = \" \".join(lemma.lemmatize(word) for word in punc_free.split())\n",
    "    return normalized\n",
    "\n",
    "reviews_clean = [clean(reviews).split() for reviews in reviews]    \n",
    "\n",
    "dictionary = corpora.Dictionary(reviews_clean)"
   ]
  },
  {
   "cell_type": "code",
   "execution_count": 36,
   "metadata": {},
   "outputs": [
    {
     "data": {
      "text/plain": [
       "[['hotel',\n",
       "  'nice',\n",
       "  'quiet',\n",
       "  'know',\n",
       "  'train',\n",
       "  'track',\n",
       "  'near',\n",
       "  'by',\n",
       "  'train',\n",
       "  'passed',\n",
       "  'stay',\n",
       "  'best',\n",
       "  'western',\n",
       "  'changed',\n",
       "  'hotel',\n",
       "  'classification',\n",
       "  'plus',\n",
       "  'category',\n",
       "  'before'],\n",
       " ['stayed',\n",
       "  'king',\n",
       "  'suite',\n",
       "  'separation',\n",
       "  'bedroom',\n",
       "  'living',\n",
       "  'space',\n",
       "  'sofa',\n",
       "  'bed',\n",
       "  'good',\n",
       "  'back',\n",
       "  'discomfort',\n",
       "  'day',\n",
       "  'left',\n",
       "  'three',\n",
       "  'night',\n",
       "  'stay',\n",
       "  'room',\n",
       "  'clean',\n",
       "  'king',\n",
       "  'bed',\n",
       "  'comfortable',\n",
       "  'hotel',\n",
       "  'located',\n",
       "  'within',\n",
       "  'walking',\n",
       "  'distance',\n",
       "  'place',\n",
       "  'want',\n",
       "  'to'],\n",
       " ['parking',\n",
       "  'horrible',\n",
       "  'somebody',\n",
       "  'ran',\n",
       "  'rental',\n",
       "  'car',\n",
       "  'staying',\n",
       "  'there',\n",
       "  'get',\n",
       "  'try',\n",
       "  'breakfast',\n",
       "  'business',\n",
       "  'restaurant',\n",
       "  'opened',\n",
       "  'late',\n",
       "  'business',\n",
       "  'world',\n",
       "  'enjoy',\n",
       "  'asked',\n",
       "  'coffee',\n",
       "  'room',\n",
       "  'item',\n",
       "  'vending',\n",
       "  'machine',\n",
       "  'stale'],\n",
       " ['cheap',\n",
       "  'excellent',\n",
       "  'location',\n",
       "  'price',\n",
       "  'somewhat',\n",
       "  'standard',\n",
       "  'hacing',\n",
       "  'reservation',\n",
       "  'room',\n",
       "  'nice',\n",
       "  'clean',\n",
       "  'offer',\n",
       "  'good',\n",
       "  'continental',\n",
       "  'breakfast',\n",
       "  'plus',\n",
       "  'compensates',\n",
       "  'front',\n",
       "  'desk',\n",
       "  'service',\n",
       "  'personnel',\n",
       "  'excellent',\n",
       "  'carmel',\n",
       "  'ac',\n",
       "  'room',\n",
       "  'fan',\n",
       "  'air',\n",
       "  'circulation'],\n",
       " ['get',\n",
       "  'room',\n",
       "  'advertised',\n",
       "  'website',\n",
       "  'paid',\n",
       "  'may',\n",
       "  'luckyif',\n",
       "  'stay',\n",
       "  'many',\n",
       "  'day',\n",
       "  'give',\n",
       "  'good',\n",
       "  'roomsnobody',\n",
       "  'want',\n",
       "  'stay',\n",
       "  'room',\n",
       "  'low',\n",
       "  'lightdark',\n",
       "  'room',\n",
       "  'near',\n",
       "  'pool',\n",
       "  'noisy',\n",
       "  'smelly',\n",
       "  'bathroom',\n",
       "  'difficult',\n",
       "  'access',\n",
       "  'stay',\n",
       "  'onetwo',\n",
       "  'day',\n",
       "  'get',\n",
       "  'probably']]"
      ]
     },
     "execution_count": 36,
     "metadata": {},
     "output_type": "execute_result"
    }
   ],
   "source": [
    "reviews_clean"
   ]
  },
  {
   "cell_type": "code",
   "execution_count": 37,
   "metadata": {},
   "outputs": [
    {
     "data": {
      "text/plain": [
       "<gensim.corpora.dictionary.Dictionary at 0x119337be0>"
      ]
     },
     "execution_count": 37,
     "metadata": {},
     "output_type": "execute_result"
    }
   ],
   "source": [
    "dictionary"
   ]
  },
  {
   "cell_type": "code",
   "execution_count": 38,
   "metadata": {},
   "outputs": [],
   "source": [
    "import gensim\n",
    "from gensim import corpora\n",
    "\n",
    "# Creating the term dictionary of our courpus, where every unique term is assigned an index. dictionary = corpora.Dictionary(doc_clean)\n",
    "\n",
    "reviews_term_matrix = [dictionary.doc2bow(reviews) for reviews in reviews_clean]"
   ]
  },
  {
   "cell_type": "code",
   "execution_count": 42,
   "metadata": {},
   "outputs": [],
   "source": [
    "# Creating the object for LDA model using gensim library\n",
    "Lda = gensim.models.ldamodel.LdaModel\n",
    "\n",
    "# Running and Trainign LDA model on the document term matrix.\n",
    "ldamodel = Lda(reviews_term_matrix, num_topics=3, id2word = dictionary, passes=5)"
   ]
  },
  {
   "cell_type": "code",
   "execution_count": 46,
   "metadata": {},
   "outputs": [
    {
     "name": "stdout",
     "output_type": "stream",
     "text": [
      "[(1, '0.030*\"hotel\" + 0.030*\"train\" + 0.029*\"business\" + 0.017*\"plus\" + 0.017*\"near\" + 0.017*\"best\"')]\n"
     ]
    }
   ],
   "source": [
    "print(ldamodel.print_topics(num_topics=1, num_words=6))"
   ]
  },
  {
   "cell_type": "code",
   "execution_count": null,
   "metadata": {},
   "outputs": [],
   "source": []
  }
 ],
 "metadata": {
  "kernelspec": {
   "display_name": "Python 3",
   "language": "python",
   "name": "python3"
  },
  "language_info": {
   "codemirror_mode": {
    "name": "ipython",
    "version": 3
   },
   "file_extension": ".py",
   "mimetype": "text/x-python",
   "name": "python",
   "nbconvert_exporter": "python",
   "pygments_lexer": "ipython3",
   "version": "3.7.3"
  }
 },
 "nbformat": 4,
 "nbformat_minor": 2
}
