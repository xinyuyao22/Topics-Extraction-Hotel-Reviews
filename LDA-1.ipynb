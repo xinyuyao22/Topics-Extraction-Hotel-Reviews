{
 "cells": [
  {
   "cell_type": "markdown",
   "metadata": {},
   "source": [
    "## Key Topics Extraction and Contextual Sentiment of Hotel Reviews"
   ]
  },
  {
   "cell_type": "markdown",
   "metadata": {},
   "source": [
    "### 1. Preprocess"
   ]
  },
  {
   "cell_type": "code",
   "execution_count": 21,
   "metadata": {},
   "outputs": [
    {
     "data": {
      "text/plain": [
       "Index(['text', 'pred_category', 'true_label'], dtype='object')"
      ]
     },
     "execution_count": 21,
     "metadata": {},
     "output_type": "execute_result"
    }
   ],
   "source": [
    "import os\n",
    "from os import listdir\n",
    "import pandas as pd\n",
    "import plotly.graph_objs as go\n",
    "df = pd.read_csv('svm_pred.csv', header=0)\n",
    "df.columns"
   ]
  },
  {
   "cell_type": "code",
   "execution_count": 22,
   "metadata": {},
   "outputs": [],
   "source": [
    "df.drop(columns=['pred_category', 'true_label'], inplace = True)"
   ]
  },
  {
   "cell_type": "code",
   "execution_count": 23,
   "metadata": {},
   "outputs": [],
   "source": [
    "f= open(\"hotel_review.txt\",\"w+\")\n",
    "for i in range(df.shape[0]):\n",
    "    f.write(df.text[i])\n",
    "    f.write(\"\\n\")\n",
    "f.close()"
   ]
  },
  {
   "cell_type": "code",
   "execution_count": 24,
   "metadata": {},
   "outputs": [],
   "source": [
    "with open(\"hotel_review.txt\") as fp: \n",
    "    reviews = []\n",
    "    Lines = fp.readlines() \n",
    "    for line in Lines[:5]: \n",
    "        reviews.append(line)"
   ]
  },
  {
   "cell_type": "code",
   "execution_count": 25,
   "metadata": {},
   "outputs": [
    {
     "data": {
      "text/plain": [
       "['pleasant enough Stayed at the\\n',\n",
       " 'Singel for 2 nights for a football trip, the place is easy to find, in a good location, near the station,on the Singel canal, next to a church.\\n',\n",
       " 'Room was comfy and very well heated if a little basic, breakfast was good a variety of cereals, breads, cheese, meats, etc, boiled eggs, juice, teacoffeeAll in all a pleasant enough place for a couple of days, mind you we didnt get to bed until 3:30 the first night and well after 4 on the second.\\n',\n",
       " 'The guy I roomed with works in pest control and was a stickler about vermin bed bugs etc before we went and he had no complaints unlike some of our other guys who stayed elsewhere in the city so read into that what you will\\n',\n",
       " 'Exceeded our expectations!\\n']"
      ]
     },
     "execution_count": 25,
     "metadata": {},
     "output_type": "execute_result"
    }
   ],
   "source": [
    "reviews"
   ]
  },
  {
   "cell_type": "code",
   "execution_count": 26,
   "metadata": {},
   "outputs": [],
   "source": [
    "from gensim import corpora\n",
    "from nltk.corpus import stopwords \n",
    "from nltk.stem.wordnet import WordNetLemmatizer\n",
    "import string\n",
    "stop = set(stopwords.words('english'))\n",
    "exclude = set(string.punctuation) \n",
    "lemma = WordNetLemmatizer()\n",
    "def clean(reviews):\n",
    "    stop_free = \" \".join([i for i in reviews.lower().split() if i not in stop])\n",
    "    punc_free = ''.join(ch for ch in stop_free if ch not in exclude)\n",
    "    normalized = \" \".join(lemma.lemmatize(word) for word in punc_free.split())\n",
    "    return normalized\n",
    "\n",
    "reviews_clean = [clean(reviews).split() for reviews in reviews]    \n",
    "\n",
    "dictionary = corpora.Dictionary(reviews_clean)"
   ]
  },
  {
   "cell_type": "code",
   "execution_count": 27,
   "metadata": {},
   "outputs": [
    {
     "data": {
      "text/plain": [
       "[['pleasant', 'enough', 'stayed'],\n",
       " ['singel',\n",
       "  '2',\n",
       "  'night',\n",
       "  'football',\n",
       "  'trip',\n",
       "  'place',\n",
       "  'easy',\n",
       "  'find',\n",
       "  'good',\n",
       "  'location',\n",
       "  'near',\n",
       "  'stationon',\n",
       "  'singel',\n",
       "  'canal',\n",
       "  'next',\n",
       "  'church'],\n",
       " ['room',\n",
       "  'comfy',\n",
       "  'well',\n",
       "  'heated',\n",
       "  'little',\n",
       "  'basic',\n",
       "  'breakfast',\n",
       "  'good',\n",
       "  'variety',\n",
       "  'cereal',\n",
       "  'bread',\n",
       "  'cheese',\n",
       "  'meat',\n",
       "  'etc',\n",
       "  'boiled',\n",
       "  'egg',\n",
       "  'juice',\n",
       "  'teacoffeeall',\n",
       "  'pleasant',\n",
       "  'enough',\n",
       "  'place',\n",
       "  'couple',\n",
       "  'day',\n",
       "  'mind',\n",
       "  'didnt',\n",
       "  'get',\n",
       "  'bed',\n",
       "  '330',\n",
       "  'first',\n",
       "  'night',\n",
       "  'well',\n",
       "  '4',\n",
       "  'second'],\n",
       " ['guy',\n",
       "  'roomed',\n",
       "  'work',\n",
       "  'pest',\n",
       "  'control',\n",
       "  'stickler',\n",
       "  'vermin',\n",
       "  'bed',\n",
       "  'bug',\n",
       "  'etc',\n",
       "  'went',\n",
       "  'complaint',\n",
       "  'unlike',\n",
       "  'guy',\n",
       "  'stayed',\n",
       "  'elsewhere',\n",
       "  'city',\n",
       "  'read'],\n",
       " ['exceeded', 'expectation']]"
      ]
     },
     "execution_count": 27,
     "metadata": {},
     "output_type": "execute_result"
    }
   ],
   "source": [
    "reviews_clean"
   ]
  },
  {
   "cell_type": "code",
   "execution_count": 28,
   "metadata": {},
   "outputs": [
    {
     "data": {
      "text/plain": [
       "<gensim.corpora.dictionary.Dictionary at 0x1a28684f28>"
      ]
     },
     "execution_count": 28,
     "metadata": {},
     "output_type": "execute_result"
    }
   ],
   "source": [
    "dictionary"
   ]
  },
  {
   "cell_type": "code",
   "execution_count": 29,
   "metadata": {},
   "outputs": [],
   "source": [
    "import gensim\n",
    "from gensim import corpora\n",
    "\n",
    "# Creating the term dictionary of our courpus, where every unique term is assigned an index. dictionary = corpora.Dictionary(doc_clean)\n",
    "\n",
    "reviews_term_matrix = [dictionary.doc2bow(reviews) for reviews in reviews_clean]"
   ]
  },
  {
   "cell_type": "code",
   "execution_count": 30,
   "metadata": {},
   "outputs": [
    {
     "name": "stdout",
     "output_type": "stream",
     "text": [
      "[[(0, 1), (1, 1), (2, 1)], [(3, 1), (4, 1), (5, 1), (6, 1), (7, 1), (8, 1), (9, 1), (10, 1), (11, 1), (12, 1), (13, 1), (14, 1), (15, 2), (16, 1), (17, 1)], [(0, 1), (1, 1), (9, 1), (13, 1), (14, 1), (18, 1), (19, 1), (20, 1), (21, 1), (22, 1), (23, 1), (24, 1), (25, 1), (26, 1), (27, 1), (28, 1), (29, 1), (30, 1), (31, 1), (32, 1), (33, 1), (34, 1), (35, 1), (36, 1), (37, 1), (38, 1), (39, 1), (40, 1), (41, 1), (42, 1), (43, 1), (44, 2)], [(2, 1), (21, 1), (32, 1), (45, 1), (46, 1), (47, 1), (48, 1), (49, 1), (50, 2), (51, 1), (52, 1), (53, 1), (54, 1), (55, 1), (56, 1), (57, 1), (58, 1)], [(59, 1), (60, 1)]]\n",
      "[(0, 1), (1, 1), (2, 1)]\n",
      "[(3, 1), (4, 1), (5, 1), (6, 1), (7, 1), (8, 1), (9, 1), (10, 1), (11, 1), (12, 1), (13, 1), (14, 1), (15, 2), (16, 1), (17, 1)]\n",
      "[(0, 1), (1, 1), (9, 1), (13, 1), (14, 1), (18, 1), (19, 1), (20, 1), (21, 1), (22, 1), (23, 1), (24, 1), (25, 1), (26, 1), (27, 1), (28, 1), (29, 1), (30, 1), (31, 1), (32, 1), (33, 1), (34, 1), (35, 1), (36, 1), (37, 1), (38, 1), (39, 1), (40, 1), (41, 1), (42, 1), (43, 1), (44, 2)]\n",
      "[(2, 1), (21, 1), (32, 1), (45, 1), (46, 1), (47, 1), (48, 1), (49, 1), (50, 2), (51, 1), (52, 1), (53, 1), (54, 1), (55, 1), (56, 1), (57, 1), (58, 1)]\n",
      "[(59, 1), (60, 1)]\n"
     ]
    }
   ],
   "source": [
    "print(reviews_term_matrix)\n",
    "for i in reviews_term_matrix:\n",
    "    print(i)"
   ]
  },
  {
   "cell_type": "code",
   "execution_count": 31,
   "metadata": {},
   "outputs": [],
   "source": [
    "# Creating the object for LDA model using gensim library\n",
    "Lda = gensim.models.ldamodel.LdaModel\n",
    "\n",
    "# Running and Trainign LDA model on the document term matrix.\n",
    "ldamodel = Lda(reviews_term_matrix, num_topics=10, id2word = dictionary, passes=7)"
   ]
  },
  {
   "cell_type": "code",
   "execution_count": 32,
   "metadata": {},
   "outputs": [
    {
     "name": "stdout",
     "output_type": "stream",
     "text": [
      "[(0, '0.016*\"exceeded\" + 0.016*\"expectation\" + 0.016*\"stayed\" + 0.016*\"enough\" + 0.016*\"pleasant\" + 0.016*\"singel\" + 0.016*\"guy\"'), (1, '0.016*\"exceeded\" + 0.016*\"expectation\" + 0.016*\"enough\" + 0.016*\"pleasant\" + 0.016*\"stayed\" + 0.016*\"place\" + 0.016*\"night\"'), (2, '0.018*\"well\" + 0.017*\"day\" + 0.017*\"4\" + 0.017*\"second\" + 0.017*\"get\" + 0.017*\"basic\" + 0.017*\"comfy\"'), (3, '0.016*\"exceeded\" + 0.016*\"enough\" + 0.016*\"expectation\" + 0.016*\"pleasant\" + 0.016*\"stayed\" + 0.016*\"singel\" + 0.016*\"place\"'), (4, '0.095*\"singel\" + 0.050*\"church\" + 0.050*\"location\" + 0.050*\"good\" + 0.050*\"stationon\" + 0.050*\"find\" + 0.050*\"next\"'), (5, '0.016*\"exceeded\" + 0.016*\"expectation\" + 0.016*\"enough\" + 0.016*\"stayed\" + 0.016*\"pleasant\" + 0.016*\"singel\" + 0.016*\"work\"'), (6, '0.136*\"expectation\" + 0.136*\"exceeded\" + 0.012*\"enough\" + 0.012*\"pleasant\" + 0.012*\"stayed\" + 0.012*\"singel\" + 0.012*\"place\"'), (7, '0.037*\"guy\" + 0.037*\"bed\" + 0.037*\"etc\" + 0.037*\"well\" + 0.019*\"roomed\" + 0.019*\"control\" + 0.019*\"bug\"'), (8, '0.018*\"singel\" + 0.017*\"easy\" + 0.017*\"place\" + 0.017*\"trip\" + 0.017*\"near\" + 0.017*\"2\" + 0.017*\"canal\"'), (9, '0.121*\"stayed\" + 0.121*\"pleasant\" + 0.121*\"enough\" + 0.011*\"exceeded\" + 0.011*\"expectation\" + 0.011*\"singel\" + 0.011*\"place\"')]\n"
     ]
    }
   ],
   "source": [
    "print(ldamodel.print_topics(num_topics=10, num_words=7))"
   ]
  },
  {
   "cell_type": "code",
   "execution_count": null,
   "metadata": {},
   "outputs": [],
   "source": []
  }
 ],
 "metadata": {
  "kernelspec": {
   "display_name": "Python 3",
   "language": "python",
   "name": "python3"
  },
  "language_info": {
   "codemirror_mode": {
    "name": "ipython",
    "version": 3
   },
   "file_extension": ".py",
   "mimetype": "text/x-python",
   "name": "python",
   "nbconvert_exporter": "python",
   "pygments_lexer": "ipython3",
   "version": "3.7.3"
  }
 },
 "nbformat": 4,
 "nbformat_minor": 2
}
