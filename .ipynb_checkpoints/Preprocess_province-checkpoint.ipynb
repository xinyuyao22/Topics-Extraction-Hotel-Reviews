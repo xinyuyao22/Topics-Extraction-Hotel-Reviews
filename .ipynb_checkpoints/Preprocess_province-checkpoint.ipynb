{
 "cells": [
  {
   "cell_type": "markdown",
   "metadata": {},
   "source": [
    "## Key Topics Extraction and Contextual Sentiment of Hotel Reviews"
   ]
  },
  {
   "cell_type": "markdown",
   "metadata": {},
   "source": [
    "### 1. Preprocess"
   ]
  },
  {
   "cell_type": "code",
   "execution_count": 1,
   "metadata": {},
   "outputs": [
    {
     "data": {
      "text/plain": [
       "Index(['id', 'dateAdded', 'dateUpdated', 'address', 'categories',\n",
       "       'primaryCategories', 'city', 'country', 'keys', 'latitude', 'longitude',\n",
       "       'name', 'postalCode', 'province', 'reviews.date', 'reviews.dateAdded',\n",
       "       'reviews.dateSeen', 'reviews.rating', 'reviews.sourceURLs',\n",
       "       'reviews.text', 'reviews.title', 'reviews.userCity',\n",
       "       'reviews.userProvince', 'reviews.username', 'sourceURLs', 'websites'],\n",
       "      dtype='object')"
      ]
     },
     "execution_count": 1,
     "metadata": {},
     "output_type": "execute_result"
    }
   ],
   "source": [
    "import os\n",
    "from os import listdir\n",
    "import pandas as pd\n",
    "import plotly.graph_objs as go\n",
    "df = pd.read_csv('C:/Users/xyyao/Documents/GitHub/Topics-Extraction-Hotel-Reviews - local/hotel-reviews/Datafiniti_Hotel_Reviews_Jun19.csv', header=0)\n",
    "df.columns"
   ]
  },
  {
   "cell_type": "code",
   "execution_count": 2,
   "metadata": {},
   "outputs": [],
   "source": [
    "df.drop(columns=['dateAdded', 'dateUpdated', 'address', 'categories',\n",
    "       'primaryCategories', 'keys', 'reviews.date', 'reviews.dateAdded',\n",
    "       'reviews.dateSeen', 'reviews.userCity',\n",
    "       'reviews.userProvince', 'reviews.username', 'sourceURLs', 'websites'], inplace = True)\n",
    "df = df.rename(index=str, columns={'reviews.rating':'rating', 'reviews.sourceURLs': 'reviews_sourceURLs', 'reviews.text':'reviews_text', 'reviews.title': 'reviews_title'})"
   ]
  },
  {
   "cell_type": "code",
   "execution_count": 3,
   "metadata": {},
   "outputs": [
    {
     "data": {
      "text/html": [
       "<div>\n",
       "<style scoped>\n",
       "    .dataframe tbody tr th:only-of-type {\n",
       "        vertical-align: middle;\n",
       "    }\n",
       "\n",
       "    .dataframe tbody tr th {\n",
       "        vertical-align: top;\n",
       "    }\n",
       "\n",
       "    .dataframe thead th {\n",
       "        text-align: right;\n",
       "    }\n",
       "</style>\n",
       "<table border=\"1\" class=\"dataframe\">\n",
       "  <thead>\n",
       "    <tr style=\"text-align: right;\">\n",
       "      <th></th>\n",
       "      <th>id</th>\n",
       "      <th>city</th>\n",
       "      <th>country</th>\n",
       "      <th>latitude</th>\n",
       "      <th>longitude</th>\n",
       "      <th>name</th>\n",
       "      <th>postalCode</th>\n",
       "      <th>province</th>\n",
       "      <th>rating</th>\n",
       "      <th>reviews_sourceURLs</th>\n",
       "      <th>reviews_text</th>\n",
       "      <th>reviews_title</th>\n",
       "    </tr>\n",
       "  </thead>\n",
       "  <tbody>\n",
       "    <tr>\n",
       "      <td>0</td>\n",
       "      <td>AWE2FvX5RxPSIh2RscTK</td>\n",
       "      <td>Goleta</td>\n",
       "      <td>US</td>\n",
       "      <td>34.44178</td>\n",
       "      <td>-119.81979</td>\n",
       "      <td>Best Western Plus South Coast Inn</td>\n",
       "      <td>93117</td>\n",
       "      <td>CA</td>\n",
       "      <td>3</td>\n",
       "      <td>https://www.tripadvisor.com/Hotel_Review-g3243...</td>\n",
       "      <td>This hotel was nice and quiet. Did not know, t...</td>\n",
       "      <td>Best Western Plus Hotel</td>\n",
       "    </tr>\n",
       "    <tr>\n",
       "      <td>1</td>\n",
       "      <td>AVwcj_OhkufWRAb5wi9T</td>\n",
       "      <td>Carmel by the Sea</td>\n",
       "      <td>US</td>\n",
       "      <td>36.55722</td>\n",
       "      <td>-121.92194</td>\n",
       "      <td>Best Western Carmel's Town House Lodge</td>\n",
       "      <td>93921</td>\n",
       "      <td>CA</td>\n",
       "      <td>4</td>\n",
       "      <td>https://www.tripadvisor.com/Hotel_Review-g3217...</td>\n",
       "      <td>We stayed in the king suite with the separatio...</td>\n",
       "      <td>Clean rooms at solid rates in the heart of Carmel</td>\n",
       "    </tr>\n",
       "    <tr>\n",
       "      <td>2</td>\n",
       "      <td>AVwcj_OhkufWRAb5wi9T</td>\n",
       "      <td>Carmel by the Sea</td>\n",
       "      <td>US</td>\n",
       "      <td>36.55722</td>\n",
       "      <td>-121.92194</td>\n",
       "      <td>Best Western Carmel's Town House Lodge</td>\n",
       "      <td>93921</td>\n",
       "      <td>CA</td>\n",
       "      <td>3</td>\n",
       "      <td>https://www.tripadvisor.com/Hotel_Review-g3217...</td>\n",
       "      <td>Parking was horrible, somebody ran into my ren...</td>\n",
       "      <td>Business</td>\n",
       "    </tr>\n",
       "    <tr>\n",
       "      <td>3</td>\n",
       "      <td>AVwcj_OhkufWRAb5wi9T</td>\n",
       "      <td>Carmel by the Sea</td>\n",
       "      <td>US</td>\n",
       "      <td>36.55722</td>\n",
       "      <td>-121.92194</td>\n",
       "      <td>Best Western Carmel's Town House Lodge</td>\n",
       "      <td>93921</td>\n",
       "      <td>CA</td>\n",
       "      <td>5</td>\n",
       "      <td>https://www.tripadvisor.com/Hotel_Review-g3217...</td>\n",
       "      <td>Not cheap but excellent location. Price is som...</td>\n",
       "      <td>Very good</td>\n",
       "    </tr>\n",
       "    <tr>\n",
       "      <td>4</td>\n",
       "      <td>AVwcj_OhkufWRAb5wi9T</td>\n",
       "      <td>Carmel by the Sea</td>\n",
       "      <td>US</td>\n",
       "      <td>36.55722</td>\n",
       "      <td>-121.92194</td>\n",
       "      <td>Best Western Carmel's Town House Lodge</td>\n",
       "      <td>93921</td>\n",
       "      <td>CA</td>\n",
       "      <td>2</td>\n",
       "      <td>https://www.tripadvisor.com/Hotel_Review-g3217...</td>\n",
       "      <td>If you get the room that they advertised on th...</td>\n",
       "      <td>Low chance to come back here</td>\n",
       "    </tr>\n",
       "  </tbody>\n",
       "</table>\n",
       "</div>"
      ],
      "text/plain": [
       "                     id               city country  latitude  longitude  \\\n",
       "0  AWE2FvX5RxPSIh2RscTK             Goleta      US  34.44178 -119.81979   \n",
       "1  AVwcj_OhkufWRAb5wi9T  Carmel by the Sea      US  36.55722 -121.92194   \n",
       "2  AVwcj_OhkufWRAb5wi9T  Carmel by the Sea      US  36.55722 -121.92194   \n",
       "3  AVwcj_OhkufWRAb5wi9T  Carmel by the Sea      US  36.55722 -121.92194   \n",
       "4  AVwcj_OhkufWRAb5wi9T  Carmel by the Sea      US  36.55722 -121.92194   \n",
       "\n",
       "                                     name postalCode province  rating  \\\n",
       "0       Best Western Plus South Coast Inn      93117       CA       3   \n",
       "1  Best Western Carmel's Town House Lodge      93921       CA       4   \n",
       "2  Best Western Carmel's Town House Lodge      93921       CA       3   \n",
       "3  Best Western Carmel's Town House Lodge      93921       CA       5   \n",
       "4  Best Western Carmel's Town House Lodge      93921       CA       2   \n",
       "\n",
       "                                  reviews_sourceURLs  \\\n",
       "0  https://www.tripadvisor.com/Hotel_Review-g3243...   \n",
       "1  https://www.tripadvisor.com/Hotel_Review-g3217...   \n",
       "2  https://www.tripadvisor.com/Hotel_Review-g3217...   \n",
       "3  https://www.tripadvisor.com/Hotel_Review-g3217...   \n",
       "4  https://www.tripadvisor.com/Hotel_Review-g3217...   \n",
       "\n",
       "                                        reviews_text  \\\n",
       "0  This hotel was nice and quiet. Did not know, t...   \n",
       "1  We stayed in the king suite with the separatio...   \n",
       "2  Parking was horrible, somebody ran into my ren...   \n",
       "3  Not cheap but excellent location. Price is som...   \n",
       "4  If you get the room that they advertised on th...   \n",
       "\n",
       "                                       reviews_title  \n",
       "0                            Best Western Plus Hotel  \n",
       "1  Clean rooms at solid rates in the heart of Carmel  \n",
       "2                                           Business  \n",
       "3                                          Very good  \n",
       "4                       Low chance to come back here  "
      ]
     },
     "execution_count": 3,
     "metadata": {},
     "output_type": "execute_result"
    }
   ],
   "source": [
    "df.head()"
   ]
  },
  {
   "cell_type": "code",
   "execution_count": 4,
   "metadata": {},
   "outputs": [
    {
     "data": {
      "text/plain": [
       "array(['AK', 'AL', 'AR', 'AZ', 'CA', 'CO', 'DE', 'FL', 'GA', 'HI', 'IA',\n",
       "       'ID', 'IL', 'IN', 'KS', 'KY', 'LA', 'MA', 'MD', 'MI', 'MN', 'MO',\n",
       "       'MS', 'MT', 'NC', 'ND', 'NE', 'NJ', 'NM', 'NV', 'NY', 'OH', 'OK',\n",
       "       'OR', 'PA', 'RI', 'SC', 'SD', 'TN', 'TX', 'UT', 'VA', 'WA', 'WI',\n",
       "       'WV', 'WY'], dtype=object)"
      ]
     },
     "execution_count": 4,
     "metadata": {},
     "output_type": "execute_result"
    }
   ],
   "source": [
    "import numpy as np\n",
    "np.unique(df['province'])"
   ]
  },
  {
   "cell_type": "code",
   "execution_count": 5,
   "metadata": {},
   "outputs": [],
   "source": [
    "for p in np.unique(df['province']):\n",
    "    df_p = df[df['province'] == p]\n",
    "    f= open(\"hotel_review\" + p + \".txt\",\"w+\")\n",
    "    for i in range(df_p.shape[0]):\n",
    "        f.write(df_p.reviews_text[i])\n",
    "        f.write(\"\\n\")\n",
    "    f.close()"
   ]
  }
 ],
 "metadata": {
  "kernelspec": {
   "display_name": "Python 3",
   "language": "python",
   "name": "python3"
  },
  "language_info": {
   "codemirror_mode": {
    "name": "ipython",
    "version": 3
   },
   "file_extension": ".py",
   "mimetype": "text/x-python",
   "name": "python",
   "nbconvert_exporter": "python",
   "pygments_lexer": "ipython3",
   "version": "3.7.4"
  }
 },
 "nbformat": 4,
 "nbformat_minor": 2
}
